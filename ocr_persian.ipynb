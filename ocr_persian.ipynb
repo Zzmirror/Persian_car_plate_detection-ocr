{
  "nbformat": 4,
  "nbformat_minor": 0,
  "metadata": {
    "colab": {
      "provenance": []
    },
    "kernelspec": {
      "name": "python3",
      "display_name": "Python 3"
    },
    "language_info": {
      "name": "python"
    }
  },
  "cells": [
    {
      "cell_type": "code",
      "source": [
        "import pandas as pd\n",
        "import os\n",
        "import cv2\n",
        "import matplotlib.pyplot as plt\n",
        "import numpy as np\n",
        "from tensorflow.keras.utils import to_categorical\n",
        "from skimage import measure\n",
        "import imutils\n",
        "import cv2 \n",
        "import numpy as np \n",
        "from google.colab.patches import cv2_imshow\n",
        "import matplotlib.pyplot as plt\n",
        "import pandas as pd\n",
        "from google.colab.patches import cv2_imshow\n",
        "from sklearn.model_selection import train_test_split\n"
      ],
      "metadata": {
        "id": "k_JXi-9MSUgm"
      },
      "execution_count": 8,
      "outputs": []
    },
    {
      "cell_type": "markdown",
      "source": [
        "# character dataset - original images"
      ],
      "metadata": {
        "id": "fEKMDIXyM6Kg"
      }
    },
    {
      "cell_type": "markdown",
      "source": [
        "\n",
        "\n",
        "> Download dataset from Kaggle\n",
        "\n"
      ],
      "metadata": {
        "id": "O8tdrZJMZOPC"
      }
    },
    {
      "cell_type": "code",
      "source": [
        "!pip install -q kaggle\n",
        "!mkdir -p ~/.kaggle\n",
        "!cp kaggle.json ~/.kaggle/\n",
        "!chmod 600 /root/.kaggle/kaggle.json\n",
        "!kaggle datasets download -d mehdisahraei/persian-alpha\n",
        "!unzip /content/persian-alpha.zip -d /content/persian-alpha"
      ],
      "metadata": {
        "id": "8WFsl64Gt4tM"
      },
      "execution_count": null,
      "outputs": []
    },
    {
      "cell_type": "markdown",
      "source": [
        "\n",
        "\n",
        "> Create iamge_info dataframe & X , Y \n",
        "\n"
      ],
      "metadata": {
        "id": "KN6gpM6IZYGr"
      }
    },
    {
      "cell_type": "code",
      "source": [
        "\n",
        "main_folder_name = '/content/persian-alpha/alpha/'\n",
        "main_folder_path = os.listdir(main_folder_name)\n",
        "\n",
        "image_name_list = []\n",
        "image_path_list = []\n",
        "label_list = []\n",
        "\n",
        "x = np.empty([4299, 32 , 32 ])\n",
        "y = []\n",
        "count = 0\n",
        "\n",
        "for folder in main_folder_path :\n",
        "  single_folder_name  = main_folder_name + folder\n",
        "  single_folder_path = os.listdir(single_folder_name)\n",
        "  for image_name in single_folder_path :\n",
        "    image_path = single_folder_name + \"/\" +image_name\n",
        "    label =folder.split(\"-\")[1]\n",
        "    if 'long' in folder :\n",
        "      label =label + folder.split(\"-\")[2]\n",
        "    image_name_list.append(image_name)\n",
        "    image_path_list.append(image_path)\n",
        "    label_list.append(label)\n",
        "\n",
        "    image = cv2.imread(image_path , cv2.IMREAD_GRAYSCALE)\n",
        "    image = cv2.resize(image , (32 , 32 ))\n",
        "    x[count , : , :] =np.array(image)\n",
        "    y.append(label)\n",
        "    count += 1"
      ],
      "metadata": {
        "id": "IzD2P9UhM3LR"
      },
      "execution_count": null,
      "outputs": []
    },
    {
      "cell_type": "code",
      "source": [
        "image_info_df = pd.DataFrame({\n",
        "    \"image_name\": image_name_list,\n",
        "    \"image_path\": image_path_list ,\n",
        "    \"label\" : label_list \n",
        "}, )"
      ],
      "metadata": {
        "id": "ctvIR1l6YaH1"
      },
      "execution_count": null,
      "outputs": []
    },
    {
      "cell_type": "code",
      "source": [
        "image_info_df.to_csv('/content/drive/MyDrive/ocr_models/image_info_df.csv')"
      ],
      "metadata": {
        "id": "CAh_4qo2aE6G"
      },
      "execution_count": null,
      "outputs": []
    },
    {
      "cell_type": "markdown",
      "source": [
        "\n",
        "\n",
        "> train test validation split\n",
        "\n"
      ],
      "metadata": {
        "id": "xvPyMs7jtpvj"
      }
    },
    {
      "cell_type": "code",
      "source": [
        "train_size=0.8\n",
        "X_train, X_rem, y_train, y_rem = train_test_split(x,y, train_size=0.8)\n",
        "test_size = 0.5\n",
        "X_valid, X_test, y_valid, y_test = train_test_split(X_rem,y_rem, test_size=0.5)"
      ],
      "metadata": {
        "id": "UPLfNrPFY-Kf"
      },
      "execution_count": null,
      "outputs": []
    },
    {
      "cell_type": "markdown",
      "source": [
        "\n",
        "\n",
        "> dataset information :\n",
        "\n"
      ],
      "metadata": {
        "id": "rtSULMStZp8f"
      }
    },
    {
      "cell_type": "code",
      "source": [
        "print(\"train x.shape :\" , X_train.shape , \"y.shape :\" ,len(y_train))\n",
        "print(\"validation x.shape :\" , X_valid.shape , \"y.shape :\" , len(y_valid))\n",
        "print(\"test x.shape :\" , X_test.shape , \"y.shape :\" , len(y_test))\n",
        "num_classes = len(set(y))\n",
        "print(\"number of classes :\" , num_classes )"
      ],
      "metadata": {
        "colab": {
          "base_uri": "https://localhost:8080/"
        },
        "id": "28BoaO2Fd7lI",
        "outputId": "bd856ddd-ff9a-499e-9a1c-c6eb9697e6d5"
      },
      "execution_count": null,
      "outputs": [
        {
          "output_type": "stream",
          "name": "stdout",
          "text": [
            "train x.shape : (3439, 32, 32) y.shape : 3439\n",
            "validation x.shape : (430, 32, 32) y.shape : 430\n",
            "test x.shape : (430, 32, 32) y.shape : 430\n",
            "number of classes : 43\n"
          ]
        }
      ]
    },
    {
      "cell_type": "code",
      "source": [
        "for i in range(0 , 20) :\n",
        "  plt.imshow(X_train[i])\n",
        "  plt.title(y_train[i])\n",
        "  plt.show()"
      ],
      "metadata": {
        "id": "_hAGZlJphfou"
      },
      "execution_count": null,
      "outputs": []
    },
    {
      "cell_type": "markdown",
      "source": [
        "\n",
        "\n",
        "> create label dataframe\n",
        "\n"
      ],
      "metadata": {
        "id": "q0Ypf5eLt67d"
      }
    },
    {
      "cell_type": "code",
      "source": [
        "classes_name = list(set(y))\n",
        "labels_nums = [i for i in range(0,len(classes_name))]\n",
        "y_df = pd.DataFrame(\n",
        "    {'class_names': classes_name,\n",
        "     'labels_nums': labels_nums,\n",
        "    })\n",
        "y_df"
      ],
      "metadata": {
        "colab": {
          "base_uri": "https://localhost:8080/",
          "height": 1000
        },
        "id": "QFnrkATvruM_",
        "outputId": "fd892e22-ffa4-4be7-d4e7-e75ce528663a"
      },
      "execution_count": null,
      "outputs": [
        {
          "output_type": "execute_result",
          "data": {
            "text/plain": [
              "   class_names  labels_nums\n",
              "0           ye            0\n",
              "1            p            1\n",
              "2            n            2\n",
              "3            d            3\n",
              "4            b            4\n",
              "5            m            5\n",
              "6           kh            6\n",
              "7         alef            7\n",
              "8           he            8\n",
              "9            f            9\n",
              "10        shin           10\n",
              "11        four           11\n",
              "12        five           12\n",
              "13         six           13\n",
              "14         zad           14\n",
              "15         one           15\n",
              "16         jim           16\n",
              "17       tlong           17\n",
              "18    anewfive           18\n",
              "19          zh           19\n",
              "20         che           20\n",
              "21           k           21\n",
              "22         sad           22\n",
              "23          le           23\n",
              "24        zero           24\n",
              "25       eight           25\n",
              "26           t           26\n",
              "27        nine           27\n",
              "28           g           28\n",
              "29           z           29\n",
              "30         zal           30\n",
              "31       ghyin           31\n",
              "32         sin           32\n",
              "33           v           33\n",
              "34           r           34\n",
              "35           h           35\n",
              "36       seven           36\n",
              "37       zlong           37\n",
              "38         ghe           38\n",
              "39          se           39\n",
              "40        ayin           40\n",
              "41         two           41\n",
              "42       three           42"
            ],
            "text/html": [
              "\n",
              "  <div id=\"df-0467ff12-1c80-41a2-be87-5cd74bae9c1a\">\n",
              "    <div class=\"colab-df-container\">\n",
              "      <div>\n",
              "<style scoped>\n",
              "    .dataframe tbody tr th:only-of-type {\n",
              "        vertical-align: middle;\n",
              "    }\n",
              "\n",
              "    .dataframe tbody tr th {\n",
              "        vertical-align: top;\n",
              "    }\n",
              "\n",
              "    .dataframe thead th {\n",
              "        text-align: right;\n",
              "    }\n",
              "</style>\n",
              "<table border=\"1\" class=\"dataframe\">\n",
              "  <thead>\n",
              "    <tr style=\"text-align: right;\">\n",
              "      <th></th>\n",
              "      <th>class_names</th>\n",
              "      <th>labels_nums</th>\n",
              "    </tr>\n",
              "  </thead>\n",
              "  <tbody>\n",
              "    <tr>\n",
              "      <th>0</th>\n",
              "      <td>ye</td>\n",
              "      <td>0</td>\n",
              "    </tr>\n",
              "    <tr>\n",
              "      <th>1</th>\n",
              "      <td>p</td>\n",
              "      <td>1</td>\n",
              "    </tr>\n",
              "    <tr>\n",
              "      <th>2</th>\n",
              "      <td>n</td>\n",
              "      <td>2</td>\n",
              "    </tr>\n",
              "    <tr>\n",
              "      <th>3</th>\n",
              "      <td>d</td>\n",
              "      <td>3</td>\n",
              "    </tr>\n",
              "    <tr>\n",
              "      <th>4</th>\n",
              "      <td>b</td>\n",
              "      <td>4</td>\n",
              "    </tr>\n",
              "    <tr>\n",
              "      <th>5</th>\n",
              "      <td>m</td>\n",
              "      <td>5</td>\n",
              "    </tr>\n",
              "    <tr>\n",
              "      <th>6</th>\n",
              "      <td>kh</td>\n",
              "      <td>6</td>\n",
              "    </tr>\n",
              "    <tr>\n",
              "      <th>7</th>\n",
              "      <td>alef</td>\n",
              "      <td>7</td>\n",
              "    </tr>\n",
              "    <tr>\n",
              "      <th>8</th>\n",
              "      <td>he</td>\n",
              "      <td>8</td>\n",
              "    </tr>\n",
              "    <tr>\n",
              "      <th>9</th>\n",
              "      <td>f</td>\n",
              "      <td>9</td>\n",
              "    </tr>\n",
              "    <tr>\n",
              "      <th>10</th>\n",
              "      <td>shin</td>\n",
              "      <td>10</td>\n",
              "    </tr>\n",
              "    <tr>\n",
              "      <th>11</th>\n",
              "      <td>four</td>\n",
              "      <td>11</td>\n",
              "    </tr>\n",
              "    <tr>\n",
              "      <th>12</th>\n",
              "      <td>five</td>\n",
              "      <td>12</td>\n",
              "    </tr>\n",
              "    <tr>\n",
              "      <th>13</th>\n",
              "      <td>six</td>\n",
              "      <td>13</td>\n",
              "    </tr>\n",
              "    <tr>\n",
              "      <th>14</th>\n",
              "      <td>zad</td>\n",
              "      <td>14</td>\n",
              "    </tr>\n",
              "    <tr>\n",
              "      <th>15</th>\n",
              "      <td>one</td>\n",
              "      <td>15</td>\n",
              "    </tr>\n",
              "    <tr>\n",
              "      <th>16</th>\n",
              "      <td>jim</td>\n",
              "      <td>16</td>\n",
              "    </tr>\n",
              "    <tr>\n",
              "      <th>17</th>\n",
              "      <td>tlong</td>\n",
              "      <td>17</td>\n",
              "    </tr>\n",
              "    <tr>\n",
              "      <th>18</th>\n",
              "      <td>anewfive</td>\n",
              "      <td>18</td>\n",
              "    </tr>\n",
              "    <tr>\n",
              "      <th>19</th>\n",
              "      <td>zh</td>\n",
              "      <td>19</td>\n",
              "    </tr>\n",
              "    <tr>\n",
              "      <th>20</th>\n",
              "      <td>che</td>\n",
              "      <td>20</td>\n",
              "    </tr>\n",
              "    <tr>\n",
              "      <th>21</th>\n",
              "      <td>k</td>\n",
              "      <td>21</td>\n",
              "    </tr>\n",
              "    <tr>\n",
              "      <th>22</th>\n",
              "      <td>sad</td>\n",
              "      <td>22</td>\n",
              "    </tr>\n",
              "    <tr>\n",
              "      <th>23</th>\n",
              "      <td>le</td>\n",
              "      <td>23</td>\n",
              "    </tr>\n",
              "    <tr>\n",
              "      <th>24</th>\n",
              "      <td>zero</td>\n",
              "      <td>24</td>\n",
              "    </tr>\n",
              "    <tr>\n",
              "      <th>25</th>\n",
              "      <td>eight</td>\n",
              "      <td>25</td>\n",
              "    </tr>\n",
              "    <tr>\n",
              "      <th>26</th>\n",
              "      <td>t</td>\n",
              "      <td>26</td>\n",
              "    </tr>\n",
              "    <tr>\n",
              "      <th>27</th>\n",
              "      <td>nine</td>\n",
              "      <td>27</td>\n",
              "    </tr>\n",
              "    <tr>\n",
              "      <th>28</th>\n",
              "      <td>g</td>\n",
              "      <td>28</td>\n",
              "    </tr>\n",
              "    <tr>\n",
              "      <th>29</th>\n",
              "      <td>z</td>\n",
              "      <td>29</td>\n",
              "    </tr>\n",
              "    <tr>\n",
              "      <th>30</th>\n",
              "      <td>zal</td>\n",
              "      <td>30</td>\n",
              "    </tr>\n",
              "    <tr>\n",
              "      <th>31</th>\n",
              "      <td>ghyin</td>\n",
              "      <td>31</td>\n",
              "    </tr>\n",
              "    <tr>\n",
              "      <th>32</th>\n",
              "      <td>sin</td>\n",
              "      <td>32</td>\n",
              "    </tr>\n",
              "    <tr>\n",
              "      <th>33</th>\n",
              "      <td>v</td>\n",
              "      <td>33</td>\n",
              "    </tr>\n",
              "    <tr>\n",
              "      <th>34</th>\n",
              "      <td>r</td>\n",
              "      <td>34</td>\n",
              "    </tr>\n",
              "    <tr>\n",
              "      <th>35</th>\n",
              "      <td>h</td>\n",
              "      <td>35</td>\n",
              "    </tr>\n",
              "    <tr>\n",
              "      <th>36</th>\n",
              "      <td>seven</td>\n",
              "      <td>36</td>\n",
              "    </tr>\n",
              "    <tr>\n",
              "      <th>37</th>\n",
              "      <td>zlong</td>\n",
              "      <td>37</td>\n",
              "    </tr>\n",
              "    <tr>\n",
              "      <th>38</th>\n",
              "      <td>ghe</td>\n",
              "      <td>38</td>\n",
              "    </tr>\n",
              "    <tr>\n",
              "      <th>39</th>\n",
              "      <td>se</td>\n",
              "      <td>39</td>\n",
              "    </tr>\n",
              "    <tr>\n",
              "      <th>40</th>\n",
              "      <td>ayin</td>\n",
              "      <td>40</td>\n",
              "    </tr>\n",
              "    <tr>\n",
              "      <th>41</th>\n",
              "      <td>two</td>\n",
              "      <td>41</td>\n",
              "    </tr>\n",
              "    <tr>\n",
              "      <th>42</th>\n",
              "      <td>three</td>\n",
              "      <td>42</td>\n",
              "    </tr>\n",
              "  </tbody>\n",
              "</table>\n",
              "</div>\n",
              "      <button class=\"colab-df-convert\" onclick=\"convertToInteractive('df-0467ff12-1c80-41a2-be87-5cd74bae9c1a')\"\n",
              "              title=\"Convert this dataframe to an interactive table.\"\n",
              "              style=\"display:none;\">\n",
              "        \n",
              "  <svg xmlns=\"http://www.w3.org/2000/svg\" height=\"24px\"viewBox=\"0 0 24 24\"\n",
              "       width=\"24px\">\n",
              "    <path d=\"M0 0h24v24H0V0z\" fill=\"none\"/>\n",
              "    <path d=\"M18.56 5.44l.94 2.06.94-2.06 2.06-.94-2.06-.94-.94-2.06-.94 2.06-2.06.94zm-11 1L8.5 8.5l.94-2.06 2.06-.94-2.06-.94L8.5 2.5l-.94 2.06-2.06.94zm10 10l.94 2.06.94-2.06 2.06-.94-2.06-.94-.94-2.06-.94 2.06-2.06.94z\"/><path d=\"M17.41 7.96l-1.37-1.37c-.4-.4-.92-.59-1.43-.59-.52 0-1.04.2-1.43.59L10.3 9.45l-7.72 7.72c-.78.78-.78 2.05 0 2.83L4 21.41c.39.39.9.59 1.41.59.51 0 1.02-.2 1.41-.59l7.78-7.78 2.81-2.81c.8-.78.8-2.07 0-2.86zM5.41 20L4 18.59l7.72-7.72 1.47 1.35L5.41 20z\"/>\n",
              "  </svg>\n",
              "      </button>\n",
              "      \n",
              "  <style>\n",
              "    .colab-df-container {\n",
              "      display:flex;\n",
              "      flex-wrap:wrap;\n",
              "      gap: 12px;\n",
              "    }\n",
              "\n",
              "    .colab-df-convert {\n",
              "      background-color: #E8F0FE;\n",
              "      border: none;\n",
              "      border-radius: 50%;\n",
              "      cursor: pointer;\n",
              "      display: none;\n",
              "      fill: #1967D2;\n",
              "      height: 32px;\n",
              "      padding: 0 0 0 0;\n",
              "      width: 32px;\n",
              "    }\n",
              "\n",
              "    .colab-df-convert:hover {\n",
              "      background-color: #E2EBFA;\n",
              "      box-shadow: 0px 1px 2px rgba(60, 64, 67, 0.3), 0px 1px 3px 1px rgba(60, 64, 67, 0.15);\n",
              "      fill: #174EA6;\n",
              "    }\n",
              "\n",
              "    [theme=dark] .colab-df-convert {\n",
              "      background-color: #3B4455;\n",
              "      fill: #D2E3FC;\n",
              "    }\n",
              "\n",
              "    [theme=dark] .colab-df-convert:hover {\n",
              "      background-color: #434B5C;\n",
              "      box-shadow: 0px 1px 3px 1px rgba(0, 0, 0, 0.15);\n",
              "      filter: drop-shadow(0px 1px 2px rgba(0, 0, 0, 0.3));\n",
              "      fill: #FFFFFF;\n",
              "    }\n",
              "  </style>\n",
              "\n",
              "      <script>\n",
              "        const buttonEl =\n",
              "          document.querySelector('#df-0467ff12-1c80-41a2-be87-5cd74bae9c1a button.colab-df-convert');\n",
              "        buttonEl.style.display =\n",
              "          google.colab.kernel.accessAllowed ? 'block' : 'none';\n",
              "\n",
              "        async function convertToInteractive(key) {\n",
              "          const element = document.querySelector('#df-0467ff12-1c80-41a2-be87-5cd74bae9c1a');\n",
              "          const dataTable =\n",
              "            await google.colab.kernel.invokeFunction('convertToInteractive',\n",
              "                                                     [key], {});\n",
              "          if (!dataTable) return;\n",
              "\n",
              "          const docLinkHtml = 'Like what you see? Visit the ' +\n",
              "            '<a target=\"_blank\" href=https://colab.research.google.com/notebooks/data_table.ipynb>data table notebook</a>'\n",
              "            + ' to learn more about interactive tables.';\n",
              "          element.innerHTML = '';\n",
              "          dataTable['output_type'] = 'display_data';\n",
              "          await google.colab.output.renderOutput(dataTable, element);\n",
              "          const docLink = document.createElement('div');\n",
              "          docLink.innerHTML = docLinkHtml;\n",
              "          element.appendChild(docLink);\n",
              "        }\n",
              "      </script>\n",
              "    </div>\n",
              "  </div>\n",
              "  "
            ]
          },
          "metadata": {},
          "execution_count": 9
        }
      ]
    },
    {
      "cell_type": "markdown",
      "source": [
        "\n",
        "\n",
        "> preprocessing :\n",
        "Change y labels to numeric -\n",
        "normalization\n",
        "change type tp float32\n",
        "\n"
      ],
      "metadata": {
        "id": "Kbl4Z4vCvl5_"
      }
    },
    {
      "cell_type": "code",
      "source": [
        "def convert_y(y):\n",
        "  numeric_y = np.zeros(len(y))\n",
        "  for i in range(len(y)):\n",
        "    numeric_y[i] = np.where(y_df['class_names'] == y[i])[0][0]\n",
        "  return numeric_y\n",
        "\n",
        "def categorical(y):\n",
        "  cat_y = to_categorical(y , num_classes = 43)\n",
        "  return cat_y\n",
        "\n",
        "def reshape_x(x):\n",
        "  reshaped_x = x.reshape(-1 , 32 , 32 , 1)\n",
        "  return reshaped_x\n",
        "\n",
        "def normalization(x) :\n",
        "  new_x = x/255\n",
        "  return new_x\n",
        "\n",
        "def edit_type(x , y):\n",
        "  edited_x = x.astype(np.float32)\n",
        "  edited_y = y.astype(np.float32)\n",
        "  return edited_x , edited_y\n",
        "\n",
        "def preprocess(x ,  y):\n",
        "  reshaped_x = reshape_x(x)\n",
        "  numeric_y = convert_y(y)\n",
        "  cat_y = categorical(numeric_y)\n",
        "  normal_x = normalization(reshaped_x)\n",
        "  pre_x , pre_y = edit_type(normal_x , cat_y)\n",
        "  return pre_x , pre_y"
      ],
      "metadata": {
        "id": "c3sj_xORsNRu"
      },
      "execution_count": 4,
      "outputs": []
    },
    {
      "cell_type": "code",
      "source": [
        "pre_X_train , pre_y_train = preprocess(X_train ,  y_train)\n",
        "pre_X_val , pre_y_val = preprocess(X_valid ,  y_valid)\n",
        "pre_X_test , pre_y_test = preprocess(X_test ,  y_test)"
      ],
      "metadata": {
        "id": "u8Vgqx3lwwk4"
      },
      "execution_count": null,
      "outputs": []
    },
    {
      "cell_type": "code",
      "source": [
        "print(\"y_train example :\" , y_train[0:20])\n",
        "print(\"y_val exalple :\" , y_valid[0:20])\n",
        "print(\"y_test example :\" , y_test[0:20])"
      ],
      "metadata": {
        "colab": {
          "base_uri": "https://localhost:8080/"
        },
        "id": "jS5MIxJFSdFn",
        "outputId": "c8b6a486-43e7-4683-8abc-7d1f135246b9"
      },
      "execution_count": null,
      "outputs": [
        {
          "output_type": "stream",
          "name": "stdout",
          "text": [
            "y_train example : ['nine', 'zad', 'five', 'zlong', 'tlong', 'five', 'sin', 'p', 'ye', 'b', 'seven', 'five', 'zh', 'p', 'b', 'zero', 'one', 'six', 'eight', 'alef']\n",
            "y_val exalple : ['ghyin', 'd', 'seven', 'sin', 'zh', 'le', 't', 'n', 'alef', 'r', 'ye', 'ghe', 'le', 'z', 'zlong', 'ghyin', 'six', 'shin', 'v', 'he']\n",
            "y_test example : ['se', 'anewfive', 't', 't', 'eight', 'tlong', 't', 'alef', 'm', 'jim', 'h', 'kh', 'he', 'sad', 'seven', 'sad', 'one', 'v', 'k', 'g']\n"
          ]
        }
      ]
    },
    {
      "cell_type": "markdown",
      "source": [
        "# create cropped dataset :"
      ],
      "metadata": {
        "id": "8Jua1XGtnCcB"
      }
    },
    {
      "cell_type": "code",
      "source": [
        "image_info_df = pd.read_csv('/content/drive/MyDrive/ocr_models/image_info_df.csv')\n",
        "y_df = pd.read_csv('/content/drive/MyDrive/ocr_models/y_df.csv')\n"
      ],
      "metadata": {
        "id": "vAr4rUeKeqGf"
      },
      "execution_count": 5,
      "outputs": []
    },
    {
      "cell_type": "markdown",
      "source": [
        "\n",
        "\n",
        "> Define editing image functions:\n",
        "\n"
      ],
      "metadata": {
        "id": "PRTp-L95zybl"
      }
    },
    {
      "cell_type": "code",
      "source": [
        "def apply_treshold(image1) :\n",
        "\n",
        "  img = cv2.cvtColor(image1, cv2.COLOR_BGR2GRAY)\n",
        "  thresh1 = cv2.adaptiveThreshold(img, 255, cv2.ADAPTIVE_THRESH_MEAN_C,\n",
        "                                            cv2.THRESH_BINARY, 199, 5)\n",
        "  return thresh1\n",
        "\n",
        "\n",
        "def char_label_contor(tresh) :\n",
        "  # invert black number to white number\n",
        "  inverted_tresh = np.invert(tresh)\n",
        "  labels = measure.label(inverted_tresh, background=0)\n",
        "  charCandidates = np.zeros(inverted_tresh.shape, dtype=\"uint8\")\n",
        "  return labels , charCandidates, inverted_tresh\n",
        "\n",
        "\n",
        "def prepare_boding_box(labels ,charCandidates, inverted_tresh ) :\n",
        "  i = 0\n",
        "  new_bondingbox = []\n",
        "  for label in np.unique(labels):\n",
        "  # if this is the background label, ignore it\n",
        "    if label == 0:\n",
        "      continue\n",
        "    i +=1\n",
        "    \n",
        "    # print(\"this is i :\" , i)\n",
        "\n",
        "    # otherwise, construct the label mask to display only connected components for the\n",
        "    # current label, then find contours in the label mask\n",
        "    labelMask = np.zeros(inverted_tresh.shape, dtype=\"uint8\")\n",
        "    labelMask[labels == label] = 255\n",
        "    cnts = cv2.findContours(labelMask, cv2.RETR_EXTERNAL, cv2.CHAIN_APPROX_SIMPLE)[0]\n",
        "    # cnts = cnts[0] if imutils.is_cv2() else cnts[1]\n",
        "\n",
        "    # plt.imshow(labelMask)\n",
        "    # plt.show()\n",
        "\n",
        "    # ensure at least one contour was found in the mask\n",
        "    if len(cnts) > 0:\n",
        "\n",
        "      # print(\"pass if\")\n",
        "\n",
        "      # grab the largest contour which corresponds to the component in the mask, then\n",
        "      # grab the bounding box for the contour\n",
        "      c = max(cnts, key=cv2.contourArea)\n",
        "      (boxX, boxY, boxW, boxH) = cv2.boundingRect(c)\n",
        "\n",
        "      # compute the aspect ratio, solidity, and height ratio for the component\n",
        "      aspectRatio = boxW / float(boxH)\n",
        "      solidity = cv2.contourArea(c) / float(boxW * boxH)\n",
        "      heightRatio = boxH / float(inverted_tresh.shape[0])\n",
        "\n",
        "      # print(\"aspectRatio\" , aspectRatio , \"solidity\" , solidity , \"heightRatio\" , heightRatio)\n",
        "\n",
        "      # determine if the aspect ratio, solidity, and height of the contour pass\n",
        "      # the rules tests\n",
        "      keepAspectRatio = aspectRatio < 3.0\n",
        "      keepSolidity = solidity > 0.09\n",
        "      keepHeight = heightRatio > 0.01 and heightRatio < 2.0\n",
        "\n",
        "      # print(\"keepAspectRatio :\" , keepAspectRatio , \"keepSolidity:\" , keepSolidity , \"keepHeight\" , keepHeight)\n",
        "      # print(\"=================================\")\n",
        "\n",
        "      # check to see if the component passes all the tests\n",
        "      if keepAspectRatio and keepSolidity and keepHeight:\n",
        "        # compute the convex hull of the contour and draw it on the character\n",
        "        # candidates mask\n",
        "        hull = cv2.convexHull(c)\n",
        "        cv2.drawContours(charCandidates, [hull], -1, 255, -1)\n",
        "        new_bondingbox.append(cv2.boundingRect(charCandidates))\n",
        "\n",
        "  # plt.imshow(charCandidates)\n",
        "  # plt.show()\n",
        "\n",
        "  # print(\"bonding_box:\" , new_bondingbox)\n",
        "  # print(\"bondingbox -1 :\" , [new_bondingbox[-1]])\n",
        "  # print(\"len bonding box\" , len(new_bondingbox))\n",
        "\n",
        "  return ([new_bondingbox[-1]])\n",
        "\n",
        "def display_bonding_box(image , new_bondingbox ):\n",
        "\n",
        "  uu =  image.copy()\n",
        "  for rect in new_bondingbox:\n",
        "      # Get the coordinates from the bounding box\n",
        "    x,y,w,h = rect \n",
        "    cv2.rectangle(uu, (x-1, y-3), (x + w +1, y + h + 3), (255,0,0), 1)\n",
        "  cv2_imshow(uu)\n",
        "\n",
        "def crop_iamge(tresh , new_bondingbox) :\n",
        "  TARGET_WIDTH = 32\n",
        "  TARGET_HEIGHT = 32\n",
        "  image = tresh.copy()\n",
        "  for rect in new_bondingbox:\n",
        "\n",
        "      # Get the coordinates from the bounding box\n",
        "      x,y,w,h = rect\n",
        "\n",
        "      # Crop the character from the mask\n",
        "      # and apply bitwise_not because in our training data for pre-trained model\n",
        "      # the characters are black on a white background\n",
        "      crop = image[y:y+h, x:x+w]\n",
        "      # crop = cv2.bitwise_not(crop)\n",
        "\n",
        "      # Get the number of rows and columns for each cropped image\n",
        "      # and calculate the padding to match the image input of pre-trained model\n",
        "      rows = crop.shape[0]\n",
        "      columns = crop.shape[1]\n",
        "      paddingY = (TARGET_HEIGHT - rows) // 2 if rows < TARGET_HEIGHT else int(0.17 * rows)\n",
        "      paddingX = (TARGET_WIDTH - columns) // 2 if columns < TARGET_WIDTH else int(0.45 * columns)\n",
        "      \n",
        "      # Apply padding to make the image fit for neural network model\n",
        "      crop = cv2.copyMakeBorder(crop, paddingY, paddingY, paddingX, paddingX, cv2.BORDER_CONSTANT, None, 255)\n",
        "\n",
        "      # Convert and resize image\n",
        "      # crop = cv2.cvtColor(crop, cv2.COLOR_GRAY2RGB)     \n",
        "      crop = cv2.resize(crop, (TARGET_WIDTH, TARGET_HEIGHT))\n",
        "      # print(\"********************************this is crop :\")\n",
        "      # cv2_imshow(crop)\n",
        "      # plt.imshow(crop)\n",
        "      # plt.show()\n",
        "      # print(\"********************************\")\n",
        "  return crop\n",
        "\n",
        "def do_crop_iamge(image_path):\n",
        "  image = cv2.imread(image_path)\n",
        "  tresh = apply_treshold(image)\n",
        "  labels ,charCandidates ,  inverted_tresh =char_label_contor(tresh)\n",
        "  new_bondingbox = prepare_boding_box(labels ,charCandidates, inverted_tresh )\n",
        "  # prediction = final_predict(tresh , new_bondingbox)\n",
        "  # print(\"=========================\")\n",
        "  # display_bonding_box(image , new_bondingbox )\n",
        "  crop = crop_iamge(tresh , new_bondingbox)\n",
        "  return crop"
      ],
      "metadata": {
        "id": "9-4W1_-ooYQM"
      },
      "execution_count": null,
      "outputs": []
    },
    {
      "cell_type": "markdown",
      "source": [
        "\n",
        "\n",
        "> create and save cropped dataset :\n",
        "\n"
      ],
      "metadata": {
        "id": "q74FLeVnz68n"
      }
    },
    {
      "cell_type": "code",
      "source": [
        "croped_X = np.empty([4299, 32 , 32 ])\n",
        "croped_image_path_list = []\n",
        "croped_y = []\n",
        "count = 0\n",
        "\n",
        "for image_path in image_info_df.image_path :\n",
        "  print(image_path)\n",
        "  croped_image = do_crop_iamge(image_path)\n",
        "  label =image_path.split(\"-\")[1]\n",
        "  croped_X[count , : , :] = croped_image\n",
        "  y = image_info_df[image_info_df['image_path'] == image_path].label[count]\n",
        "  croped_y.append(y)\n",
        "  croped_image_path_list.append(image_path)\n",
        "  count += 1\n",
        "\n",
        "croped_data_pd = pd.DataFrame(\n",
        "    {'croped_image_path_list': croped_image_path_list,\n",
        "     'croped_y': croped_y,\n",
        "    })\n",
        "  \n",
        "\n",
        "np.save('/content/drive/MyDrive/ocr_models/new_croped_X.npy' , croped_X) \n",
        "np.save('/content/drive/MyDrive/ocr_models/new_croped_y.npy', croped_y)\n",
        "croped_data_pd.to_csv('/content/drive/MyDrive/ocr_models/croped_data_pd.csv')\n"
      ],
      "metadata": {
        "id": "LnsmCHSVpUza"
      },
      "execution_count": null,
      "outputs": []
    },
    {
      "cell_type": "code",
      "source": [
        "print(croped_X.shape)\n",
        "print(len(croped_y))"
      ],
      "metadata": {
        "colab": {
          "base_uri": "https://localhost:8080/"
        },
        "id": "bzh1SMc_ns-k",
        "outputId": "d98c38ea-f74b-4205-e40c-36eff031222e"
      },
      "execution_count": 10,
      "outputs": [
        {
          "output_type": "stream",
          "name": "stdout",
          "text": [
            "(4299, 32, 32)\n",
            "3377\n"
          ]
        }
      ]
    },
    {
      "cell_type": "markdown",
      "source": [
        "\n",
        "\n",
        "> load prepared dataset from drive\n",
        "\n"
      ],
      "metadata": {
        "id": "Vodc8jJKy6_5"
      }
    },
    {
      "cell_type": "code",
      "source": [
        "croped_X = np.load('/content/drive/MyDrive/ocr_models/new_croped_X.npy')\n",
        "croped_y = np.load('/content/drive/MyDrive/ocr_models/new_croped_y.npy')"
      ],
      "metadata": {
        "id": "48vBSKyhJFis"
      },
      "execution_count": 11,
      "outputs": []
    },
    {
      "cell_type": "code",
      "source": [
        "m = 1400\n",
        "for i in range(m , m+10) :\n",
        "  plt.imshow(croped_X[i])\n",
        "  plt.title(croped_y[i])\n",
        "  plt.show()\n"
      ],
      "metadata": {
        "id": "06UHOtDvJcuS"
      },
      "execution_count": null,
      "outputs": []
    },
    {
      "cell_type": "code",
      "source": [
        "train_size=0.8\n",
        "X_train_crop, X_rem_crop, y_train_crop, y_rem_crop = train_test_split(croped_X,croped_y, train_size=0.8)\n",
        "test_size = 0.5\n",
        "X_valid_crop, X_test_crop, y_valid_crop, y_test_crop = train_test_split(X_rem_crop,y_rem_crop, test_size=0.5)\n",
        "\n",
        "print(\"train x.shape :\" , X_train_crop.shape , \"y.shape :\" ,len(y_train_crop))\n",
        "print(\"validation x.shape :\" , X_valid_crop.shape , \"y.shape :\" , len(y_valid_crop))\n",
        "print(\"test x.shape :\" , X_test_crop.shape , \"y.shape :\" , len(y_test_crop))\n",
        "num_classes = len(set(croped_y))\n",
        "print(\"number of classes :\" , num_classes )"
      ],
      "metadata": {
        "id": "Oc5ZPtUFifvv",
        "outputId": "e4d9231a-eb45-4bc5-cac0-4c60eeda4e9f",
        "colab": {
          "base_uri": "https://localhost:8080/"
        }
      },
      "execution_count": 12,
      "outputs": [
        {
          "output_type": "stream",
          "name": "stdout",
          "text": [
            "train x.shape : (3439, 32, 32) y.shape : 3439\n",
            "validation x.shape : (430, 32, 32) y.shape : 430\n",
            "test x.shape : (430, 32, 32) y.shape : 430\n",
            "number of classes : 43\n"
          ]
        }
      ]
    },
    {
      "cell_type": "code",
      "source": [
        "pre_X_train_crop , pre_y_train_crop = preprocess(X_train_crop ,  y_train_crop)\n",
        "pre_X_val_crop , pre_y_val_crop = preprocess(X_valid_crop ,  y_valid_crop)\n",
        "pre_X_test_crop , pre_y_test_crop = preprocess(X_test_crop ,  y_test_crop)\n",
        "\n",
        "print(\"y_train example :\" , y_train_crop[0:20])\n",
        "print(\"y_val exalple :\" , y_valid_crop[0:20])\n",
        "print(\"y_test example :\" , y_test_crop[0:20])"
      ],
      "metadata": {
        "id": "-EnWP1pwiQ55",
        "outputId": "4d030e43-1226-4978-9946-a1e76e2d3158",
        "colab": {
          "base_uri": "https://localhost:8080/"
        }
      },
      "execution_count": 13,
      "outputs": [
        {
          "output_type": "stream",
          "name": "stdout",
          "text": [
            "y_train example : ['he' 'che' 'ayin' 'eight' 'le' 'm' 'z' 'h' 'z' 'three' 'b' 'm' 'seven'\n",
            " 'shin' 'z' 'five' 'g' 'four' 'shin' 'v']\n",
            "y_val exalple : ['seven' 'zad' 'seven' 'sad' 'che' 'he' 'r' 'd' 't' 'k' 'k' 'four' 'sad'\n",
            " 'f' 'v' 'z' 'zlong' 'anewfive' 'p' 'b']\n",
            "y_test example : ['ye' 'zal' 'f' 'k' 'le' 'ghe' 'seven' 'seven' 'anewfive' 'r' 'g' 'ye' 'p'\n",
            " 'zero' 'n' 'ghyin' 'zlong' 'sin' 'v' 'ayin']\n"
          ]
        }
      ]
    },
    {
      "cell_type": "markdown",
      "source": [
        "# Model :"
      ],
      "metadata": {
        "id": "teKjpxvXxjLD"
      }
    },
    {
      "cell_type": "code",
      "source": [
        "import numpy as np\n",
        "from sklearn.model_selection import train_test_split\n",
        "import matplotlib.pyplot as plt\n",
        "from tensorflow.keras.layers import Input, Conv2D, MaxPooling2D, Dense, Flatten, Dropout, Activation, BatchNormalization\n",
        "from tensorflow.keras.models import Model, Sequential\n",
        "from tensorflow.keras.regularizers import l2 \n",
        "from tensorflow.keras.models import save_model\n"
      ],
      "metadata": {
        "id": "Mf_QfCqlyuTI"
      },
      "execution_count": 17,
      "outputs": []
    },
    {
      "cell_type": "code",
      "source": [
        "def LeNet5v2(input_shape = (32, 32, 1), classes = 43):\n",
        "\n",
        "  \"\"\"\n",
        "    Implementation of a modified LeNet-5.\n",
        "    Only those layers with learnable parameters are counted in the layer numbering.\n",
        "    \n",
        "    Arguments:\n",
        "    input_shape -- shape of the images of the dataset\n",
        "    classes -- integer, number of classes\n",
        "\n",
        "    Returns:\n",
        "    model -- a Model() instance in Keras\n",
        "\n",
        "  \"\"\"\n",
        "  model = Sequential(\n",
        "      [\n",
        "          # layer\n",
        "\n",
        "       Conv2D(filters = 32 , kernel_size = 5 , strides = 1 ,  activation = 'relu' , input_shape = (32 , 32 , 1) , kernel_regularizer=l2(0.0005) , name = 'convolution_1') ,\n",
        "\n",
        "      #  layer 2\n",
        "       Conv2D(filters=32 , kernel_size = 5 , strides = 1 ,  name = 'convolution_2', use_bias=False) ,\n",
        "       BatchNormalization(name = 'batchnorm_1') ,\n",
        "       Activation(\"relu\") , \n",
        "       MaxPooling2D(pool_size = 2 , strides = 2 , name = 'max_pool_1') ,\n",
        "       Dropout(0.25 , name = 'dropout_1') ,\n",
        "\n",
        "      #  layer 3\n",
        "       Conv2D(filters = 64 , kernel_size = 3 , strides = 1 ,  activation = 'relu' , input_shape = (32 , 32 , 1) , kernel_regularizer=l2(0.0005) , name = 'convolution_3') ,\n",
        "\n",
        "      #  layer 4\n",
        "       Conv2D(filters=64 , kernel_size = 3 , strides = 1 ,  name = 'convolution_4', use_bias=False) ,\n",
        "       BatchNormalization(name = 'batchnorm_2') ,\n",
        "       Activation(\"relu\") , \n",
        "       MaxPooling2D(pool_size = 2 , strides = 2 , name = 'max_pool_2') ,\n",
        "       Dropout(0.25 , name = 'dropout_2') ,\n",
        "       Flatten(name = 'flatten'),\n",
        "      \n",
        "      # layer 6\n",
        "       Dense(units = 256, name = 'fully_connected_1', use_bias=False) ,\n",
        "       BatchNormalization(name = 'batchnorm_3'),\n",
        "       Activation(\"relu\"),\n",
        "\n",
        "       # Layer 7\n",
        "       Dense(units = 128, name = 'fully_connected_2', use_bias=False),\n",
        "       BatchNormalization(name = 'batchnorm_4'),\n",
        "       Activation(\"relu\"),\n",
        "        \n",
        "    # Layer 8\n",
        "       Dense(units = 84, name = 'fully_connected_3', use_bias=False),\n",
        "       BatchNormalization(name = 'batchnorm_5'),\n",
        "       Activation(\"relu\"),\n",
        "       Dropout(0.25, name = 'dropout_3'),\n",
        "\n",
        "    # Output\n",
        "       Dense(units = 43, activation = 'softmax', name = 'output')\n",
        "        \n",
        "      ]\n",
        "  )\n",
        "\n",
        "  model._name = 'LeNet5v2'\n",
        "\n",
        "  return model"
      ],
      "metadata": {
        "id": "fqXBxCRVxlAN"
      },
      "execution_count": 15,
      "outputs": []
    },
    {
      "cell_type": "code",
      "source": [
        "# Build model\n",
        "print(\"[INFO] Compiling model...\")\n",
        "shape = (32 , 32 , 1)\n",
        "model_LeNet5v2 = LeNet5v2(input_shape = (32, 32, 1), classes = num_classes)\n",
        "model_LeNet5v2.compile(optimizer='adam', loss='categorical_crossentropy', metrics=['accuracy'])\n",
        "model_LeNet5v2.summary()"
      ],
      "metadata": {
        "colab": {
          "base_uri": "https://localhost:8080/"
        },
        "id": "aTvDynf-yE3z",
        "outputId": "eca13cbd-fbbc-479d-d020-f95372cd2cd4"
      },
      "execution_count": 20,
      "outputs": [
        {
          "output_type": "stream",
          "name": "stdout",
          "text": [
            "[INFO] Compiling model...\n",
            "Model: \"LeNet5v2\"\n",
            "_________________________________________________________________\n",
            " Layer (type)                Output Shape              Param #   \n",
            "=================================================================\n",
            " convolution_1 (Conv2D)      (None, 28, 28, 32)        832       \n",
            "                                                                 \n",
            " convolution_2 (Conv2D)      (None, 24, 24, 32)        25600     \n",
            "                                                                 \n",
            " batchnorm_1 (BatchNormaliza  (None, 24, 24, 32)       128       \n",
            " tion)                                                           \n",
            "                                                                 \n",
            " activation_5 (Activation)   (None, 24, 24, 32)        0         \n",
            "                                                                 \n",
            " max_pool_1 (MaxPooling2D)   (None, 12, 12, 32)        0         \n",
            "                                                                 \n",
            " dropout_1 (Dropout)         (None, 12, 12, 32)        0         \n",
            "                                                                 \n",
            " convolution_3 (Conv2D)      (None, 10, 10, 64)        18496     \n",
            "                                                                 \n",
            " convolution_4 (Conv2D)      (None, 8, 8, 64)          36864     \n",
            "                                                                 \n",
            " batchnorm_2 (BatchNormaliza  (None, 8, 8, 64)         256       \n",
            " tion)                                                           \n",
            "                                                                 \n",
            " activation_6 (Activation)   (None, 8, 8, 64)          0         \n",
            "                                                                 \n",
            " max_pool_2 (MaxPooling2D)   (None, 4, 4, 64)          0         \n",
            "                                                                 \n",
            " dropout_2 (Dropout)         (None, 4, 4, 64)          0         \n",
            "                                                                 \n",
            " flatten (Flatten)           (None, 1024)              0         \n",
            "                                                                 \n",
            " fully_connected_1 (Dense)   (None, 256)               262144    \n",
            "                                                                 \n",
            " batchnorm_3 (BatchNormaliza  (None, 256)              1024      \n",
            " tion)                                                           \n",
            "                                                                 \n",
            " activation_7 (Activation)   (None, 256)               0         \n",
            "                                                                 \n",
            " fully_connected_2 (Dense)   (None, 128)               32768     \n",
            "                                                                 \n",
            " batchnorm_4 (BatchNormaliza  (None, 128)              512       \n",
            " tion)                                                           \n",
            "                                                                 \n",
            " activation_8 (Activation)   (None, 128)               0         \n",
            "                                                                 \n",
            " fully_connected_3 (Dense)   (None, 84)                10752     \n",
            "                                                                 \n",
            " batchnorm_5 (BatchNormaliza  (None, 84)               336       \n",
            " tion)                                                           \n",
            "                                                                 \n",
            " activation_9 (Activation)   (None, 84)                0         \n",
            "                                                                 \n",
            " dropout_3 (Dropout)         (None, 84)                0         \n",
            "                                                                 \n",
            " output (Dense)              (None, 43)                3655      \n",
            "                                                                 \n",
            "=================================================================\n",
            "Total params: 393,367\n",
            "Trainable params: 392,239\n",
            "Non-trainable params: 1,128\n",
            "_________________________________________________________________\n"
          ]
        }
      ]
    },
    {
      "cell_type": "code",
      "source": [
        "history_model1_LeNet5 = model_LeNet5v2.fit(pre_X_train, pre_y_train, epochs = 50, batch_size = 64, \n",
        "                                          validation_data = (pre_X_val,pre_y_val))"
      ],
      "metadata": {
        "colab": {
          "base_uri": "https://localhost:8080/"
        },
        "id": "P4T05-y22218",
        "outputId": "c4950e84-b9a7-4bd5-e085-711bfd4fc56e"
      },
      "execution_count": null,
      "outputs": [
        {
          "output_type": "stream",
          "name": "stdout",
          "text": [
            "Epoch 1/50\n",
            "54/54 [==============================] - 23s 369ms/step - loss: 3.3157 - accuracy: 0.1748 - val_loss: 3.8422 - val_accuracy: 0.0209\n",
            "Epoch 2/50\n",
            "54/54 [==============================] - 20s 364ms/step - loss: 2.0511 - accuracy: 0.4885 - val_loss: 4.3799 - val_accuracy: 0.0116\n",
            "Epoch 3/50\n",
            "54/54 [==============================] - 18s 330ms/step - loss: 1.3510 - accuracy: 0.6583 - val_loss: 4.9868 - val_accuracy: 0.0116\n",
            "Epoch 4/50\n",
            "54/54 [==============================] - 20s 366ms/step - loss: 0.9608 - accuracy: 0.7409 - val_loss: 5.2394 - val_accuracy: 0.0209\n",
            "Epoch 5/50\n",
            "54/54 [==============================] - 20s 367ms/step - loss: 0.7463 - accuracy: 0.7933 - val_loss: 5.5697 - val_accuracy: 0.0209\n",
            "Epoch 6/50\n",
            "54/54 [==============================] - 19s 351ms/step - loss: 0.5940 - accuracy: 0.8360 - val_loss: 5.7357 - val_accuracy: 0.0209\n",
            "Epoch 7/50\n",
            "54/54 [==============================] - 21s 374ms/step - loss: 0.5013 - accuracy: 0.8662 - val_loss: 4.9467 - val_accuracy: 0.0209\n",
            "Epoch 8/50\n",
            "54/54 [==============================] - 18s 331ms/step - loss: 0.4360 - accuracy: 0.8735 - val_loss: 2.5966 - val_accuracy: 0.2140\n",
            "Epoch 9/50\n",
            "54/54 [==============================] - 17s 324ms/step - loss: 0.3705 - accuracy: 0.8994 - val_loss: 2.5627 - val_accuracy: 0.2744\n",
            "Epoch 10/50\n",
            "54/54 [==============================] - 18s 329ms/step - loss: 0.3458 - accuracy: 0.9023 - val_loss: 1.7318 - val_accuracy: 0.4907\n",
            "Epoch 11/50\n",
            "54/54 [==============================] - 20s 359ms/step - loss: 0.3126 - accuracy: 0.9160 - val_loss: 0.7860 - val_accuracy: 0.7814\n",
            "Epoch 12/50\n",
            "54/54 [==============================] - 18s 330ms/step - loss: 0.2832 - accuracy: 0.9244 - val_loss: 1.6046 - val_accuracy: 0.5442\n",
            "Epoch 13/50\n",
            "54/54 [==============================] - 18s 331ms/step - loss: 0.2532 - accuracy: 0.9334 - val_loss: 0.7068 - val_accuracy: 0.7721\n",
            "Epoch 14/50\n",
            "54/54 [==============================] - 19s 351ms/step - loss: 0.2204 - accuracy: 0.9442 - val_loss: 0.6119 - val_accuracy: 0.8256\n",
            "Epoch 15/50\n",
            "54/54 [==============================] - 18s 336ms/step - loss: 0.2108 - accuracy: 0.9459 - val_loss: 0.4602 - val_accuracy: 0.8651\n",
            "Epoch 16/50\n",
            "54/54 [==============================] - 18s 325ms/step - loss: 0.1968 - accuracy: 0.9529 - val_loss: 0.4430 - val_accuracy: 0.8814\n",
            "Epoch 17/50\n",
            "54/54 [==============================] - 19s 348ms/step - loss: 0.1920 - accuracy: 0.9511 - val_loss: 2.2629 - val_accuracy: 0.4070\n",
            "Epoch 18/50\n",
            "54/54 [==============================] - 20s 371ms/step - loss: 0.1852 - accuracy: 0.9514 - val_loss: 0.6005 - val_accuracy: 0.8279\n",
            "Epoch 19/50\n",
            "54/54 [==============================] - 18s 331ms/step - loss: 0.1746 - accuracy: 0.9503 - val_loss: 2.8066 - val_accuracy: 0.3140\n",
            "Epoch 20/50\n",
            "54/54 [==============================] - 18s 330ms/step - loss: 0.1780 - accuracy: 0.9526 - val_loss: 1.2306 - val_accuracy: 0.6860\n",
            "Epoch 21/50\n",
            "54/54 [==============================] - 18s 329ms/step - loss: 0.1638 - accuracy: 0.9584 - val_loss: 1.2149 - val_accuracy: 0.7140\n",
            "Epoch 22/50\n",
            "54/54 [==============================] - 20s 364ms/step - loss: 0.1561 - accuracy: 0.9605 - val_loss: 1.6124 - val_accuracy: 0.6047\n",
            "Epoch 23/50\n",
            "54/54 [==============================] - 18s 329ms/step - loss: 0.1430 - accuracy: 0.9683 - val_loss: 0.7484 - val_accuracy: 0.7953\n",
            "Epoch 24/50\n",
            "54/54 [==============================] - 18s 330ms/step - loss: 0.1338 - accuracy: 0.9651 - val_loss: 1.0167 - val_accuracy: 0.6977\n",
            "Epoch 25/50\n",
            "54/54 [==============================] - 18s 331ms/step - loss: 0.1191 - accuracy: 0.9727 - val_loss: 0.2706 - val_accuracy: 0.9279\n",
            "Epoch 26/50\n",
            "54/54 [==============================] - 19s 357ms/step - loss: 0.1177 - accuracy: 0.9706 - val_loss: 0.8405 - val_accuracy: 0.7651\n",
            "Epoch 27/50\n",
            "54/54 [==============================] - 18s 330ms/step - loss: 0.1274 - accuracy: 0.9677 - val_loss: 0.3931 - val_accuracy: 0.8907\n",
            "Epoch 28/50\n",
            "54/54 [==============================] - 18s 331ms/step - loss: 0.1293 - accuracy: 0.9680 - val_loss: 0.4749 - val_accuracy: 0.8535\n",
            "Epoch 29/50\n",
            "54/54 [==============================] - 18s 336ms/step - loss: 0.1050 - accuracy: 0.9759 - val_loss: 4.1253 - val_accuracy: 0.2442\n",
            "Epoch 30/50\n",
            "54/54 [==============================] - 21s 383ms/step - loss: 0.1092 - accuracy: 0.9712 - val_loss: 1.7122 - val_accuracy: 0.5558\n",
            "Epoch 31/50\n",
            "54/54 [==============================] - 18s 330ms/step - loss: 0.1118 - accuracy: 0.9724 - val_loss: 2.3087 - val_accuracy: 0.4837\n",
            "Epoch 32/50\n",
            "54/54 [==============================] - 17s 324ms/step - loss: 0.1153 - accuracy: 0.9695 - val_loss: 5.2674 - val_accuracy: 0.1512\n",
            "Epoch 33/50\n",
            "54/54 [==============================] - 19s 357ms/step - loss: 0.0996 - accuracy: 0.9773 - val_loss: 1.0557 - val_accuracy: 0.7279\n",
            "Epoch 34/50\n",
            "54/54 [==============================] - 18s 332ms/step - loss: 0.1139 - accuracy: 0.9698 - val_loss: 1.2480 - val_accuracy: 0.6977\n",
            "Epoch 35/50\n",
            "54/54 [==============================] - 18s 330ms/step - loss: 0.1164 - accuracy: 0.9709 - val_loss: 4.4670 - val_accuracy: 0.2023\n",
            "Epoch 36/50\n",
            "54/54 [==============================] - 18s 330ms/step - loss: 0.1007 - accuracy: 0.9756 - val_loss: 1.1958 - val_accuracy: 0.6814\n",
            "Epoch 37/50\n",
            "54/54 [==============================] - 20s 370ms/step - loss: 0.0897 - accuracy: 0.9785 - val_loss: 3.7880 - val_accuracy: 0.3209\n",
            "Epoch 38/50\n",
            "54/54 [==============================] - 17s 325ms/step - loss: 0.0871 - accuracy: 0.9811 - val_loss: 0.3746 - val_accuracy: 0.9023\n",
            "Epoch 39/50\n",
            "54/54 [==============================] - 18s 333ms/step - loss: 0.0849 - accuracy: 0.9802 - val_loss: 2.2540 - val_accuracy: 0.5256\n",
            "Epoch 40/50\n",
            "54/54 [==============================] - 20s 370ms/step - loss: 0.0851 - accuracy: 0.9794 - val_loss: 0.6456 - val_accuracy: 0.8302\n",
            "Epoch 41/50\n",
            "54/54 [==============================] - 19s 349ms/step - loss: 0.0834 - accuracy: 0.9820 - val_loss: 2.8079 - val_accuracy: 0.3860\n",
            "Epoch 42/50\n",
            "54/54 [==============================] - 18s 330ms/step - loss: 0.0960 - accuracy: 0.9744 - val_loss: 2.0720 - val_accuracy: 0.5465\n",
            "Epoch 43/50\n",
            "54/54 [==============================] - 20s 381ms/step - loss: 0.1027 - accuracy: 0.9738 - val_loss: 2.1907 - val_accuracy: 0.5093\n",
            "Epoch 44/50\n",
            "54/54 [==============================] - 19s 347ms/step - loss: 0.0903 - accuracy: 0.9762 - val_loss: 3.4569 - val_accuracy: 0.3302\n",
            "Epoch 45/50\n",
            "54/54 [==============================] - 18s 330ms/step - loss: 0.0899 - accuracy: 0.9794 - val_loss: 3.6575 - val_accuracy: 0.3651\n",
            "Epoch 46/50\n",
            "54/54 [==============================] - 18s 325ms/step - loss: 0.0794 - accuracy: 0.9817 - val_loss: 0.4657 - val_accuracy: 0.8767\n",
            "Epoch 47/50\n",
            "54/54 [==============================] - 19s 354ms/step - loss: 0.0820 - accuracy: 0.9785 - val_loss: 1.3436 - val_accuracy: 0.6651\n",
            "Epoch 48/50\n",
            "54/54 [==============================] - 18s 329ms/step - loss: 0.0742 - accuracy: 0.9858 - val_loss: 0.3178 - val_accuracy: 0.9186\n",
            "Epoch 49/50\n",
            "54/54 [==============================] - 18s 327ms/step - loss: 0.0741 - accuracy: 0.9820 - val_loss: 3.2516 - val_accuracy: 0.2814\n",
            "Epoch 50/50\n",
            "54/54 [==============================] - 18s 330ms/step - loss: 0.0736 - accuracy: 0.9837 - val_loss: 0.4368 - val_accuracy: 0.8674\n"
          ]
        }
      ]
    },
    {
      "cell_type": "code",
      "source": [
        "# print(\"model3_LeNet5v2 results :\")\n",
        "# print(f\"Train result : acc = 0.9955 , loss =  0.0200 \")\n",
        "# print(f\"Val result : acc = 0.9926 , loss = 0.0371 \")\n",
        "# print(f\"Test result : acc ={test_model3_LeNet5v2_acc} , loss = {test_model3_LeNet5v2_loss} \")\n",
        "\n",
        "\n",
        "\n",
        "LeNet5v2_acc = history_model1_LeNet5.history['accuracy']\n",
        "LeNet5v2_val_acc = history_model1_LeNet5.history['val_accuracy']\n",
        "LeNet5v2_loss = history_model1_LeNet5.history['loss']\n",
        "LeNet5v2_val_loss = history_model1_LeNet5.history['val_loss']\n",
        "\n",
        "plt.figure(figsize=(6 , 4))\n",
        "\n",
        "\n",
        "fig , ax = plt.subplots(1 , 2 , sharey='row' )\n",
        "# plt.subplot(1 ,2,1)\n",
        "ax[0].plot(LeNet5v2_acc , color = 'blue' , label = \"Training Accuracy\" )\n",
        "ax[0].plot(LeNet5v2_val_acc , color = 'red' , label =\"Val Accuracy\" )\n",
        "ax[0].set_title('Train & validation acc')\n",
        "\n",
        "# plt.subplot(1 ,2,2)\n",
        "ax[1].plot(LeNet5v2_loss , color = 'blue' , label=\"Training loss\" )\n",
        "ax[1].plot(LeNet5v2_val_loss , color='red' , label=\"Val loss\" )\n",
        "ax[1].set_title('Train & validation loss')\n",
        "\n",
        "plt.show()\n"
      ],
      "metadata": {
        "colab": {
          "base_uri": "https://localhost:8080/",
          "height": 298
        },
        "id": "W7lB9VwX-23C",
        "outputId": "92876656-b21f-45c9-8087-42853722ffa7"
      },
      "execution_count": null,
      "outputs": [
        {
          "output_type": "display_data",
          "data": {
            "text/plain": [
              "<Figure size 432x288 with 0 Axes>"
            ]
          },
          "metadata": {}
        },
        {
          "output_type": "display_data",
          "data": {
            "text/plain": [
              "<Figure size 432x288 with 2 Axes>"
            ],
            "image/png": "[encoded data removed]"
          },
          "metadata": {
            "needs_background": "light"
          }
        }
      ]
    },
    {
      "cell_type": "code",
      "source": [
        "from sklearn.metrics import classification_report\n",
        "import numpy as np\n",
        "\n",
        "Y_test = np.argmax(pre_y_test, axis=1) # Convert one-hot to index\n",
        "\n",
        "y_pred = np.zeros(pre_y_test.shape[0])\n",
        "for i in range(pre_y_test.shape[0]) :\n",
        "  x = np.expand_dims(pre_X_test[i] , axis=0)\n",
        "  predict = np.argmax(model_LeNet5v2.predict(x , verbose=False))\n",
        "  y_pred[i] =predict\n",
        "\n",
        "print(classification_report(Y_test, y_pred))"
      ],
      "metadata": {
        "id": "6r7-EpXx8Kti"
      },
      "execution_count": null,
      "outputs": []
    },
    {
      "cell_type": "code",
      "source": [
        "print(classification_report(Y_test, y_pred))"
      ],
      "metadata": {
        "colab": {
          "base_uri": "https://localhost:8080/"
        },
        "id": "6fKx6dYy8brv",
        "outputId": "bf359230-82ca-40ed-aac8-10a9c3a0b530"
      },
      "execution_count": null,
      "outputs": [
        {
          "output_type": "stream",
          "name": "stdout",
          "text": [
            "              precision    recall  f1-score   support\n",
            "\n",
            "           0       0.50      1.00      0.67        11\n",
            "           1       0.92      1.00      0.96        11\n",
            "           2       0.72      1.00      0.84        13\n",
            "           3       1.00      0.85      0.92        13\n",
            "           4       1.00      0.60      0.75        10\n",
            "           5       1.00      0.50      0.67        10\n",
            "           6       1.00      0.27      0.43        11\n",
            "           7       1.00      1.00      1.00         7\n",
            "           8       1.00      0.50      0.67         8\n",
            "           9       1.00      0.71      0.83         7\n",
            "          10       1.00      0.83      0.91         6\n",
            "          11       0.90      0.90      0.90        10\n",
            "          12       0.91      1.00      0.95        10\n",
            "          13       1.00      1.00      1.00         6\n",
            "          14       1.00      0.71      0.83         7\n",
            "          15       1.00      1.00      1.00         3\n",
            "          16       1.00      1.00      1.00        12\n",
            "          17       0.73      0.80      0.76        10\n",
            "          18       1.00      0.93      0.97        15\n",
            "          19       1.00      0.23      0.38        13\n",
            "          20       1.00      1.00      1.00        10\n",
            "          21       0.93      1.00      0.97        14\n",
            "          22       0.64      1.00      0.78         9\n",
            "          23       0.79      0.92      0.85        12\n",
            "          24       1.00      1.00      1.00         8\n",
            "          25       0.67      0.89      0.76         9\n",
            "          26       1.00      0.69      0.82        13\n",
            "          27       1.00      0.80      0.89        10\n",
            "          28       1.00      0.64      0.78        14\n",
            "          29       1.00      0.90      0.95        10\n",
            "          30       0.78      1.00      0.88         7\n",
            "          31       1.00      0.94      0.97        16\n",
            "          32       1.00      0.92      0.96        12\n",
            "          33       1.00      1.00      1.00         6\n",
            "          34       0.74      1.00      0.85        14\n",
            "          35       1.00      0.70      0.82        10\n",
            "          36       1.00      1.00      1.00        10\n",
            "          37       1.00      1.00      1.00         7\n",
            "          38       0.36      1.00      0.53        10\n",
            "          39       1.00      0.64      0.78        11\n",
            "          40       1.00      1.00      1.00         6\n",
            "          41       0.76      1.00      0.86        16\n",
            "          42       1.00      1.00      1.00         3\n",
            "\n",
            "    accuracy                           0.85       430\n",
            "   macro avg       0.91      0.86      0.86       430\n",
            "weighted avg       0.91      0.85      0.85       430\n",
            "\n"
          ]
        }
      ]
    },
    {
      "cell_type": "code",
      "source": [
        "for i in range(0 , 20):\n",
        "\n",
        "  print( \"prediction:\" ,np.argmax(model_LeNet5v2.predict(pre_X_test[i].reshape(1 , 32 , 32 ,1))))\n",
        "  print(np.argmax(pre_y_test[i]))\n",
        "  print(\"_______________\")"
      ],
      "metadata": {
        "colab": {
          "base_uri": "https://localhost:8080/"
        },
        "id": "n9ClznAS8f6a",
        "outputId": "38a9184b-f5d3-465b-c665-d01c24aab7ef"
      },
      "execution_count": null,
      "outputs": [
        {
          "output_type": "stream",
          "name": "stdout",
          "text": [
            "1/1 [==============================] - 0s 27ms/step\n",
            "prediction: 0\n",
            "19\n",
            "_______________\n",
            "1/1 [==============================] - 0s 23ms/step\n",
            "prediction: 0\n",
            "0\n",
            "_______________\n",
            "1/1 [==============================] - 0s 23ms/step\n",
            "prediction: 34\n",
            "8\n",
            "_______________\n",
            "1/1 [==============================] - 0s 26ms/step\n",
            "prediction: 22\n",
            "22\n",
            "_______________\n",
            "1/1 [==============================] - 0s 26ms/step\n",
            "prediction: 2\n",
            "2\n",
            "_______________\n",
            "1/1 [==============================] - 0s 26ms/step\n",
            "prediction: 41\n",
            "26\n",
            "_______________\n",
            "1/1 [==============================] - 0s 25ms/step\n",
            "prediction: 20\n",
            "20\n",
            "_______________\n",
            "1/1 [==============================] - 0s 24ms/step\n",
            "prediction: 34\n",
            "8\n",
            "_______________\n",
            "1/1 [==============================] - 0s 24ms/step\n",
            "prediction: 34\n",
            "34\n",
            "_______________\n",
            "1/1 [==============================] - 0s 30ms/step\n",
            "prediction: 26\n",
            "26\n",
            "_______________\n",
            "1/1 [==============================] - 0s 32ms/step\n",
            "prediction: 28\n",
            "28\n",
            "_______________\n",
            "1/1 [==============================] - 0s 26ms/step\n",
            "prediction: 32\n",
            "32\n",
            "_______________\n",
            "1/1 [==============================] - 0s 24ms/step\n",
            "prediction: 35\n",
            "35\n",
            "_______________\n",
            "1/1 [==============================] - 0s 30ms/step\n",
            "prediction: 36\n",
            "36\n",
            "_______________\n",
            "1/1 [==============================] - 0s 34ms/step\n",
            "prediction: 18\n",
            "18\n",
            "_______________\n",
            "1/1 [==============================] - 0s 26ms/step\n",
            "prediction: 4\n",
            "4\n",
            "_______________\n",
            "1/1 [==============================] - 0s 28ms/step\n",
            "prediction: 29\n",
            "29\n",
            "_______________\n",
            "1/1 [==============================] - 0s 23ms/step\n",
            "prediction: 34\n",
            "5\n",
            "_______________\n",
            "1/1 [==============================] - 0s 23ms/step\n",
            "prediction: 38\n",
            "10\n",
            "_______________\n",
            "1/1 [==============================] - 0s 26ms/step\n",
            "prediction: 5\n",
            "5\n",
            "_______________\n"
          ]
        }
      ]
    },
    {
      "cell_type": "code",
      "source": [
        "\n",
        "save_model(model_LeNet5v2, \"/content/drive/MyDrive/ocr_models/model_LeNet5v2_ocr.h5\")"
      ],
      "metadata": {
        "id": "v7bcvi7d_3O_"
      },
      "execution_count": null,
      "outputs": []
    },
    {
      "cell_type": "markdown",
      "source": [
        "# Model on  crop data :"
      ],
      "metadata": {
        "id": "Un3Z9nf-jh2g"
      }
    },
    {
      "cell_type": "code",
      "source": [
        "history_model1_LeNet5_crop = model_LeNet5v2.fit(pre_X_train_crop, pre_y_train_crop, epochs = 50, batch_size = 64, \n",
        "                                          validation_data = (pre_X_val_crop,pre_y_val_crop))"
      ],
      "metadata": {
        "id": "FJFxrlH7jlQ2",
        "outputId": "d17c2c93-bf7b-4e40-a1b3-b135f7147cf9",
        "colab": {
          "base_uri": "https://localhost:8080/"
        }
      },
      "execution_count": null,
      "outputs": [
        {
          "output_type": "stream",
          "name": "stdout",
          "text": [
            "Epoch 1/50\n",
            "54/54 [==============================] - 28s 423ms/step - loss: 2.5849 - accuracy: 0.3742 - val_loss: 3.5879 - val_accuracy: 0.1372\n",
            "Epoch 2/50\n",
            "54/54 [==============================] - 19s 361ms/step - loss: 1.1265 - accuracy: 0.7962 - val_loss: 3.4688 - val_accuracy: 0.1163\n",
            "Epoch 3/50\n",
            "54/54 [==============================] - 22s 407ms/step - loss: 0.6251 - accuracy: 0.8933 - val_loss: 3.2379 - val_accuracy: 0.1605\n",
            "Epoch 4/50\n",
            "54/54 [==============================] - 20s 373ms/step - loss: 0.4009 - accuracy: 0.9320 - val_loss: 2.7742 - val_accuracy: 0.2860\n",
            "Epoch 5/50\n",
            "54/54 [==============================] - 20s 374ms/step - loss: 0.2744 - accuracy: 0.9590 - val_loss: 2.0781 - val_accuracy: 0.4628\n",
            "Epoch 6/50\n",
            "54/54 [==============================] - 21s 388ms/step - loss: 0.2176 - accuracy: 0.9648 - val_loss: 1.6816 - val_accuracy: 0.5628\n",
            "Epoch 7/50\n",
            "54/54 [==============================] - 19s 359ms/step - loss: 0.1627 - accuracy: 0.9750 - val_loss: 0.8434 - val_accuracy: 0.8163\n",
            "Epoch 8/50\n",
            "54/54 [==============================] - 21s 394ms/step - loss: 0.1298 - accuracy: 0.9823 - val_loss: 0.3725 - val_accuracy: 0.9116\n",
            "Epoch 9/50\n",
            "54/54 [==============================] - 19s 361ms/step - loss: 0.1104 - accuracy: 0.9855 - val_loss: 0.2831 - val_accuracy: 0.9372\n",
            "Epoch 10/50\n",
            "54/54 [==============================] - 21s 396ms/step - loss: 0.1089 - accuracy: 0.9823 - val_loss: 0.1295 - val_accuracy: 0.9698\n",
            "Epoch 11/50\n",
            "54/54 [==============================] - 19s 357ms/step - loss: 0.0817 - accuracy: 0.9913 - val_loss: 0.1568 - val_accuracy: 0.9674\n",
            "Epoch 12/50\n",
            "54/54 [==============================] - 20s 372ms/step - loss: 0.0777 - accuracy: 0.9887 - val_loss: 0.1044 - val_accuracy: 0.9744\n",
            "Epoch 13/50\n",
            "54/54 [==============================] - 20s 371ms/step - loss: 0.0685 - accuracy: 0.9910 - val_loss: 0.1257 - val_accuracy: 0.9744\n",
            "Epoch 14/50\n",
            "54/54 [==============================] - 19s 357ms/step - loss: 0.0696 - accuracy: 0.9904 - val_loss: 0.1104 - val_accuracy: 0.9767\n",
            "Epoch 15/50\n",
            "54/54 [==============================] - 21s 386ms/step - loss: 0.0596 - accuracy: 0.9919 - val_loss: 0.1518 - val_accuracy: 0.9698\n",
            "Epoch 16/50\n",
            "54/54 [==============================] - 20s 363ms/step - loss: 0.0505 - accuracy: 0.9956 - val_loss: 0.1234 - val_accuracy: 0.9791\n",
            "Epoch 17/50\n",
            "54/54 [==============================] - 23s 420ms/step - loss: 0.0519 - accuracy: 0.9953 - val_loss: 0.0980 - val_accuracy: 0.9791\n",
            "Epoch 18/50\n",
            "54/54 [==============================] - 19s 358ms/step - loss: 0.0551 - accuracy: 0.9927 - val_loss: 0.1442 - val_accuracy: 0.9674\n",
            "Epoch 19/50\n",
            "54/54 [==============================] - 21s 390ms/step - loss: 0.0490 - accuracy: 0.9930 - val_loss: 0.1019 - val_accuracy: 0.9814\n",
            "Epoch 20/50\n",
            "54/54 [==============================] - 20s 364ms/step - loss: 0.0417 - accuracy: 0.9968 - val_loss: 0.1002 - val_accuracy: 0.9860\n",
            "Epoch 21/50\n",
            "54/54 [==============================] - 21s 391ms/step - loss: 0.0376 - accuracy: 0.9959 - val_loss: 0.0865 - val_accuracy: 0.9814\n",
            "Epoch 22/50\n",
            "54/54 [==============================] - 19s 354ms/step - loss: 0.0370 - accuracy: 0.9965 - val_loss: 0.1519 - val_accuracy: 0.9744\n",
            "Epoch 23/50\n",
            "54/54 [==============================] - 20s 369ms/step - loss: 0.0451 - accuracy: 0.9924 - val_loss: 0.1084 - val_accuracy: 0.9791\n",
            "Epoch 24/50\n",
            "54/54 [==============================] - 20s 368ms/step - loss: 0.0349 - accuracy: 0.9959 - val_loss: 0.1055 - val_accuracy: 0.9814\n",
            "Epoch 25/50\n",
            "54/54 [==============================] - 19s 358ms/step - loss: 0.0329 - accuracy: 0.9971 - val_loss: 0.1249 - val_accuracy: 0.9837\n",
            "Epoch 26/50\n",
            "54/54 [==============================] - 21s 389ms/step - loss: 0.0345 - accuracy: 0.9965 - val_loss: 0.1394 - val_accuracy: 0.9767\n",
            "Epoch 27/50\n",
            "54/54 [==============================] - 19s 358ms/step - loss: 0.0343 - accuracy: 0.9959 - val_loss: 0.1076 - val_accuracy: 0.9837\n",
            "Epoch 28/50\n",
            "54/54 [==============================] - 21s 384ms/step - loss: 0.0423 - accuracy: 0.9927 - val_loss: 0.1277 - val_accuracy: 0.9814\n",
            "Epoch 29/50\n",
            "54/54 [==============================] - 19s 360ms/step - loss: 0.0463 - accuracy: 0.9930 - val_loss: 0.2965 - val_accuracy: 0.9186\n",
            "Epoch 30/50\n",
            "54/54 [==============================] - 21s 390ms/step - loss: 0.0376 - accuracy: 0.9939 - val_loss: 0.1883 - val_accuracy: 0.9651\n",
            "Epoch 31/50\n",
            "54/54 [==============================] - 19s 354ms/step - loss: 0.0408 - accuracy: 0.9942 - val_loss: 0.0991 - val_accuracy: 0.9814\n",
            "Epoch 32/50\n",
            "54/54 [==============================] - 20s 370ms/step - loss: 0.0332 - accuracy: 0.9959 - val_loss: 0.1282 - val_accuracy: 0.9674\n",
            "Epoch 33/50\n",
            "54/54 [==============================] - 22s 411ms/step - loss: 0.0273 - accuracy: 0.9968 - val_loss: 0.1010 - val_accuracy: 0.9744\n",
            "Epoch 34/50\n",
            "54/54 [==============================] - 21s 384ms/step - loss: 0.0289 - accuracy: 0.9977 - val_loss: 0.0966 - val_accuracy: 0.9814\n",
            "Epoch 35/50\n",
            "54/54 [==============================] - 20s 358ms/step - loss: 0.0245 - accuracy: 0.9988 - val_loss: 0.1635 - val_accuracy: 0.9721\n",
            "Epoch 36/50\n",
            "54/54 [==============================] - 26s 478ms/step - loss: 0.0240 - accuracy: 0.9991 - val_loss: 0.1288 - val_accuracy: 0.9814\n",
            "Epoch 37/50\n",
            "54/54 [==============================] - 20s 362ms/step - loss: 0.0251 - accuracy: 0.9980 - val_loss: 0.1603 - val_accuracy: 0.9628\n",
            "Epoch 38/50\n",
            "54/54 [==============================] - 20s 377ms/step - loss: 0.0371 - accuracy: 0.9936 - val_loss: 0.0990 - val_accuracy: 0.9791\n",
            "Epoch 39/50\n",
            "54/54 [==============================] - 20s 362ms/step - loss: 0.0208 - accuracy: 0.9985 - val_loss: 0.1087 - val_accuracy: 0.9814\n",
            "Epoch 40/50\n",
            "54/54 [==============================] - 19s 354ms/step - loss: 0.0206 - accuracy: 0.9983 - val_loss: 0.0957 - val_accuracy: 0.9814\n",
            "Epoch 41/50\n",
            "54/54 [==============================] - 21s 387ms/step - loss: 0.0267 - accuracy: 0.9974 - val_loss: 0.1908 - val_accuracy: 0.9674\n",
            "Epoch 42/50\n",
            "54/54 [==============================] - 19s 359ms/step - loss: 0.0326 - accuracy: 0.9942 - val_loss: 0.1436 - val_accuracy: 0.9721\n",
            "Epoch 43/50\n",
            "54/54 [==============================] - 21s 395ms/step - loss: 0.0398 - accuracy: 0.9933 - val_loss: 0.1022 - val_accuracy: 0.9767\n",
            "Epoch 44/50\n",
            "54/54 [==============================] - 19s 357ms/step - loss: 0.0284 - accuracy: 0.9974 - val_loss: 0.0822 - val_accuracy: 0.9837\n",
            "Epoch 45/50\n",
            "54/54 [==============================] - 21s 390ms/step - loss: 0.0244 - accuracy: 0.9965 - val_loss: 0.1054 - val_accuracy: 0.9698\n",
            "Epoch 46/50\n",
            "54/54 [==============================] - 19s 362ms/step - loss: 0.0387 - accuracy: 0.9939 - val_loss: 0.1465 - val_accuracy: 0.9767\n",
            "Epoch 47/50\n",
            "54/54 [==============================] - 20s 379ms/step - loss: 0.0289 - accuracy: 0.9959 - val_loss: 0.1946 - val_accuracy: 0.9698\n",
            "Epoch 48/50\n",
            "54/54 [==============================] - 21s 388ms/step - loss: 0.0204 - accuracy: 0.9980 - val_loss: 0.1389 - val_accuracy: 0.9814\n",
            "Epoch 49/50\n",
            "54/54 [==============================] - 22s 398ms/step - loss: 0.0187 - accuracy: 0.9980 - val_loss: 0.1553 - val_accuracy: 0.9721\n",
            "Epoch 50/50\n",
            "54/54 [==============================] - 19s 358ms/step - loss: 0.0177 - accuracy: 0.9985 - val_loss: 0.1408 - val_accuracy: 0.9814\n"
          ]
        }
      ]
    },
    {
      "cell_type": "code",
      "source": [
        "# print(\"model3_LeNet5v2 results :\")\n",
        "# print(f\"Train result : acc = 0.9955 , loss =  0.0200 \")\n",
        "# print(f\"Val result : acc = 0.9926 , loss = 0.0371 \")\n",
        "# print(f\"Test result : acc ={test_model3_LeNet5v2_acc} , loss = {test_model3_LeNet5v2_loss} \")\n",
        "\n",
        "\n",
        "\n",
        "LeNet5v2_acc = history_model1_LeNet5_crop.history['accuracy']\n",
        "LeNet5v2_val_acc = history_model1_LeNet5_crop.history['val_accuracy']\n",
        "LeNet5v2_loss = history_model1_LeNet5_crop.history['loss']\n",
        "LeNet5v2_val_loss = history_model1_LeNet5_crop.history['val_loss']\n",
        "\n",
        "plt.figure(figsize=(6 , 4))\n",
        "\n",
        "\n",
        "fig , ax = plt.subplots(1 , 2 , sharey='row' )\n",
        "# plt.subplot(1 ,2,1)\n",
        "ax[0].plot(LeNet5v2_acc , color = 'blue' , label = \"Training Accuracy\" )\n",
        "ax[0].plot(LeNet5v2_val_acc , color = 'red' , label =\"Val Accuracy\" )\n",
        "ax[0].set_title('Train & validation acc')\n",
        "\n",
        "# plt.subplot(1 ,2,2)\n",
        "ax[1].plot(LeNet5v2_loss , color = 'blue' , label=\"Training loss\" )\n",
        "ax[1].plot(LeNet5v2_val_loss , color='red' , label=\"Val loss\" )\n",
        "ax[1].set_title('Train & validation loss')\n",
        "\n",
        "plt.show()\n"
      ],
      "metadata": {
        "id": "Z_2YpPGjjsq5",
        "outputId": "2eda3dd7-9e45-464b-b8b3-e5ba7373c4ee",
        "colab": {
          "base_uri": "https://localhost:8080/",
          "height": 298
        }
      },
      "execution_count": null,
      "outputs": [
        {
          "output_type": "display_data",
          "data": {
            "text/plain": [
              "<Figure size 432x288 with 0 Axes>"
            ]
          },
          "metadata": {}
        },
        {
          "output_type": "display_data",
          "data": {
            "text/plain": [
              "<Figure size 432x288 with 2 Axes>"
            ],
            "image/png": "[encoded data removed]"
          },
          "metadata": {
            "needs_background": "light"
          }
        }
      ]
    },
    {
      "cell_type": "code",
      "source": [
        "from sklearn.metrics import classification_report\n",
        "import numpy as np\n",
        "\n",
        "Y_test_crop = np.argmax(pre_y_test_crop, axis=1) # Convert one-hot to index\n",
        "\n",
        "y_pred_crop = np.zeros(pre_y_test_crop.shape[0])\n",
        "for i in range(pre_y_test_crop.shape[0]) :\n",
        "  x = np.expand_dims(pre_X_test_crop[i] , axis=0)\n",
        "  predict = np.argmax(model_LeNet5v2.predict(x , verbose=False))\n",
        "  y_pred_crop[i] =predict\n",
        "\n",
        "print(classification_report(Y_test_crop, y_pred_crop))"
      ],
      "metadata": {
        "id": "IrZP17rdnNpi",
        "outputId": "32370bf7-9892-4d58-b384-4f476be9fafa",
        "colab": {
          "base_uri": "https://localhost:8080/"
        }
      },
      "execution_count": null,
      "outputs": [
        {
          "output_type": "stream",
          "name": "stdout",
          "text": [
            "              precision    recall  f1-score   support\n",
            "\n",
            "           0       1.00      1.00      1.00        10\n",
            "           1       0.86      0.92      0.89        13\n",
            "           2       1.00      1.00      1.00         9\n",
            "           3       1.00      1.00      1.00        12\n",
            "           4       1.00      1.00      1.00         6\n",
            "           5       1.00      1.00      1.00         9\n",
            "           6       1.00      1.00      1.00         9\n",
            "           7       1.00      1.00      1.00        12\n",
            "           8       1.00      0.88      0.93         8\n",
            "           9       1.00      1.00      1.00        13\n",
            "          10       1.00      1.00      1.00         9\n",
            "          11       0.93      0.93      0.93        14\n",
            "          12       1.00      1.00      1.00         8\n",
            "          13       1.00      1.00      1.00        11\n",
            "          14       1.00      1.00      1.00        15\n",
            "          15       1.00      1.00      1.00         8\n",
            "          16       1.00      1.00      1.00         9\n",
            "          17       1.00      0.94      0.97        16\n",
            "          18       1.00      1.00      1.00         8\n",
            "          19       1.00      1.00      1.00         5\n",
            "          20       1.00      1.00      1.00         8\n",
            "          21       1.00      1.00      1.00        13\n",
            "          22       0.92      0.69      0.79        16\n",
            "          23       0.67      1.00      0.80         4\n",
            "          24       1.00      1.00      1.00        13\n",
            "          25       1.00      1.00      1.00         9\n",
            "          26       1.00      1.00      1.00         8\n",
            "          27       1.00      1.00      1.00         8\n",
            "          28       1.00      1.00      1.00        10\n",
            "          29       1.00      1.00      1.00         6\n",
            "          30       1.00      0.90      0.95        10\n",
            "          31       1.00      1.00      1.00        11\n",
            "          32       1.00      1.00      1.00        12\n",
            "          33       0.86      1.00      0.92         6\n",
            "          34       1.00      1.00      1.00        11\n",
            "          35       0.90      1.00      0.95         9\n",
            "          36       1.00      1.00      1.00        13\n",
            "          37       1.00      1.00      1.00         9\n",
            "          38       1.00      1.00      1.00        11\n",
            "          39       0.75      0.90      0.82        10\n",
            "          40       1.00      1.00      1.00        12\n",
            "          41       1.00      1.00      1.00         8\n",
            "          42       1.00      1.00      1.00         9\n",
            "\n",
            "    accuracy                           0.97       430\n",
            "   macro avg       0.97      0.98      0.98       430\n",
            "weighted avg       0.98      0.97      0.97       430\n",
            "\n"
          ]
        }
      ]
    },
    {
      "cell_type": "code",
      "source": [
        "for i in range(0 , 20):\n",
        "\n",
        "  print( \"prediction:\" ,np.argmax(model_LeNet5v2.predict(pre_X_test_crop[i].reshape(1 , 32 , 32 ,1))))\n",
        "  print(np.argmax(pre_y_test_crop[i]))\n",
        "  print(\"_______________\")"
      ],
      "metadata": {
        "id": "qh0nwB1hnTpn",
        "colab": {
          "base_uri": "https://localhost:8080/"
        },
        "outputId": "b0e425e1-1ef1-4576-9045-ca428870629c"
      },
      "execution_count": null,
      "outputs": [
        {
          "output_type": "stream",
          "name": "stdout",
          "text": [
            "1/1 [==============================] - 0s 32ms/step\n",
            "prediction: 2\n",
            "2\n",
            "_______________\n",
            "1/1 [==============================] - 0s 29ms/step\n",
            "prediction: 20\n",
            "20\n",
            "_______________\n",
            "1/1 [==============================] - 0s 33ms/step\n",
            "prediction: 5\n",
            "5\n",
            "_______________\n",
            "1/1 [==============================] - 0s 33ms/step\n",
            "prediction: 13\n",
            "13\n",
            "_______________\n",
            "1/1 [==============================] - 0s 35ms/step\n",
            "prediction: 12\n",
            "12\n",
            "_______________\n",
            "1/1 [==============================] - 0s 28ms/step\n",
            "prediction: 1\n",
            "1\n",
            "_______________\n",
            "1/1 [==============================] - 0s 34ms/step\n",
            "prediction: 16\n",
            "16\n",
            "_______________\n",
            "1/1 [==============================] - 0s 30ms/step\n",
            "prediction: 11\n",
            "11\n",
            "_______________\n",
            "1/1 [==============================] - 0s 26ms/step\n",
            "prediction: 34\n",
            "34\n",
            "_______________\n",
            "1/1 [==============================] - 0s 25ms/step\n",
            "prediction: 5\n",
            "5\n",
            "_______________\n",
            "1/1 [==============================] - 0s 27ms/step\n",
            "prediction: 0\n",
            "0\n",
            "_______________\n",
            "1/1 [==============================] - 0s 33ms/step\n",
            "prediction: 5\n",
            "5\n",
            "_______________\n",
            "1/1 [==============================] - 0s 30ms/step\n",
            "prediction: 11\n",
            "11\n",
            "_______________\n",
            "1/1 [==============================] - 0s 30ms/step\n",
            "prediction: 0\n",
            "0\n",
            "_______________\n",
            "1/1 [==============================] - 0s 28ms/step\n",
            "prediction: 8\n",
            "8\n",
            "_______________\n",
            "1/1 [==============================] - 0s 33ms/step\n",
            "prediction: 23\n",
            "22\n",
            "_______________\n",
            "1/1 [==============================] - 0s 30ms/step\n",
            "prediction: 3\n",
            "3\n",
            "_______________\n",
            "1/1 [==============================] - 0s 26ms/step\n",
            "prediction: 0\n",
            "0\n",
            "_______________\n",
            "1/1 [==============================] - 0s 26ms/step\n",
            "prediction: 10\n",
            "10\n",
            "_______________\n",
            "1/1 [==============================] - 0s 30ms/step\n",
            "prediction: 40\n",
            "40\n",
            "_______________\n"
          ]
        }
      ]
    },
    {
      "cell_type": "code",
      "source": [
        "import tensorflow\n",
        "!pip show tensorflow"
      ],
      "metadata": {
        "colab": {
          "base_uri": "https://localhost:8080/"
        },
        "id": "fgVoGPwKJRd0",
        "outputId": "4e9ec1e8-a467-42d4-f2db-771a518f75ee"
      },
      "execution_count": 19,
      "outputs": [
        {
          "output_type": "stream",
          "name": "stdout",
          "text": [
            "Name: tensorflow\n",
            "Version: 2.11.0\n",
            "Summary: TensorFlow is an open source machine learning framework for everyone.\n",
            "Home-page: https://www.tensorflow.org/\n",
            "Author: Google Inc.\n",
            "Author-email: packages@tensorflow.org\n",
            "License: Apache 2.0\n",
            "Location: /usr/local/lib/python3.8/dist-packages\n",
            "Requires: absl-py, astunparse, flatbuffers, gast, google-pasta, grpcio, h5py, keras, libclang, numpy, opt-einsum, packaging, protobuf, setuptools, six, tensorboard, tensorflow-estimator, tensorflow-io-gcs-filesystem, termcolor, typing-extensions, wrapt\n",
            "Required-by: kapre\n"
          ]
        }
      ]
    },
    {
      "cell_type": "code",
      "source": [],
      "metadata": {
        "id": "MK2IoL1lJeW2"
      },
      "execution_count": null,
      "outputs": []
    }
  ]
}